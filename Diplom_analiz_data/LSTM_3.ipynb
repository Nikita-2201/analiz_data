{
 "cells": [
  {
   "cell_type": "code",
   "execution_count": 1,
   "id": "21be3fee-799b-42ec-afff-c4d5628cacce",
   "metadata": {},
   "outputs": [],
   "source": [
    "import datetime\n",
    "import sklearn\n",
    "from sklearn.impute import SimpleImputer\n",
    "from sklearn.preprocessing import MinMaxScaler\n",
    "from sklearn.decomposition import KernelPCA\n",
    "import numpy as np\n",
    "import pandas as pd\n",
    "import math\n",
    "import keras\n",
    "import matplotlib.pyplot as plt\n",
    "import tensorflow as tf\n",
    "from keras.models import Sequential\n",
    "from keras.layers import Dense, Dropout, LSTM\n",
    "tf.random.set_seed(99)\n",
    "from sklearn.preprocessing import MinMaxScaler, StandardScaler, RobustScaler"
   ]
  },
  {
   "cell_type": "code",
   "execution_count": 2,
   "id": "4a395b35-d4ea-40ff-a2b2-797970e30d78",
   "metadata": {},
   "outputs": [
    {
     "data": {
      "text/html": [
       "<div>\n",
       "<style scoped>\n",
       "    .dataframe tbody tr th:only-of-type {\n",
       "        vertical-align: middle;\n",
       "    }\n",
       "\n",
       "    .dataframe tbody tr th {\n",
       "        vertical-align: top;\n",
       "    }\n",
       "\n",
       "    .dataframe thead th {\n",
       "        text-align: right;\n",
       "    }\n",
       "</style>\n",
       "<table border=\"1\" class=\"dataframe\">\n",
       "  <thead>\n",
       "    <tr style=\"text-align: right;\">\n",
       "      <th></th>\n",
       "      <th>timestamp</th>\n",
       "      <th>Tsup</th>\n",
       "      <th>Tback</th>\n",
       "      <th>SP_sup</th>\n",
       "      <th>SP_back</th>\n",
       "    </tr>\n",
       "  </thead>\n",
       "  <tbody>\n",
       "    <tr>\n",
       "      <th>0</th>\n",
       "      <td>2021-10-05 13:50:00</td>\n",
       "      <td>45.066909</td>\n",
       "      <td>44.029060</td>\n",
       "      <td>48.080080</td>\n",
       "      <td>40.477175</td>\n",
       "    </tr>\n",
       "    <tr>\n",
       "      <th>1</th>\n",
       "      <td>2021-10-05 13:55:00</td>\n",
       "      <td>47.172201</td>\n",
       "      <td>43.836367</td>\n",
       "      <td>48.064882</td>\n",
       "      <td>40.459339</td>\n",
       "    </tr>\n",
       "    <tr>\n",
       "      <th>2</th>\n",
       "      <td>2021-10-05 14:00:00</td>\n",
       "      <td>50.358132</td>\n",
       "      <td>43.263756</td>\n",
       "      <td>48.021463</td>\n",
       "      <td>40.409188</td>\n",
       "    </tr>\n",
       "    <tr>\n",
       "      <th>3</th>\n",
       "      <td>2021-10-05 14:05:00</td>\n",
       "      <td>45.490079</td>\n",
       "      <td>44.087679</td>\n",
       "      <td>47.971722</td>\n",
       "      <td>40.351585</td>\n",
       "    </tr>\n",
       "    <tr>\n",
       "      <th>4</th>\n",
       "      <td>2021-10-05 14:10:00</td>\n",
       "      <td>49.877687</td>\n",
       "      <td>43.233314</td>\n",
       "      <td>47.905637</td>\n",
       "      <td>40.275738</td>\n",
       "    </tr>\n",
       "    <tr>\n",
       "      <th>...</th>\n",
       "      <td>...</td>\n",
       "      <td>...</td>\n",
       "      <td>...</td>\n",
       "      <td>...</td>\n",
       "      <td>...</td>\n",
       "    </tr>\n",
       "    <tr>\n",
       "      <th>54450</th>\n",
       "      <td>2022-04-27 08:15:00</td>\n",
       "      <td>52.934261</td>\n",
       "      <td>43.523993</td>\n",
       "      <td>48.993921</td>\n",
       "      <td>41.531379</td>\n",
       "    </tr>\n",
       "    <tr>\n",
       "      <th>54451</th>\n",
       "      <td>2022-04-27 08:20:00</td>\n",
       "      <td>45.670143</td>\n",
       "      <td>44.153303</td>\n",
       "      <td>48.976375</td>\n",
       "      <td>41.511059</td>\n",
       "    </tr>\n",
       "    <tr>\n",
       "      <th>54452</th>\n",
       "      <td>2022-04-27 08:25:00</td>\n",
       "      <td>52.406526</td>\n",
       "      <td>43.776804</td>\n",
       "      <td>48.976953</td>\n",
       "      <td>41.511774</td>\n",
       "    </tr>\n",
       "    <tr>\n",
       "      <th>54453</th>\n",
       "      <td>2022-04-27 08:30:00</td>\n",
       "      <td>45.403079</td>\n",
       "      <td>43.968268</td>\n",
       "      <td>48.965460</td>\n",
       "      <td>41.498325</td>\n",
       "    </tr>\n",
       "    <tr>\n",
       "      <th>54454</th>\n",
       "      <td>2022-04-27 08:35:00</td>\n",
       "      <td>51.940348</td>\n",
       "      <td>43.701352</td>\n",
       "      <td>48.927738</td>\n",
       "      <td>41.454679</td>\n",
       "    </tr>\n",
       "  </tbody>\n",
       "</table>\n",
       "<p>54455 rows × 5 columns</p>\n",
       "</div>"
      ],
      "text/plain": [
       "                 timestamp       Tsup      Tback     SP_sup    SP_back\n",
       "0      2021-10-05 13:50:00  45.066909  44.029060  48.080080  40.477175\n",
       "1      2021-10-05 13:55:00  47.172201  43.836367  48.064882  40.459339\n",
       "2      2021-10-05 14:00:00  50.358132  43.263756  48.021463  40.409188\n",
       "3      2021-10-05 14:05:00  45.490079  44.087679  47.971722  40.351585\n",
       "4      2021-10-05 14:10:00  49.877687  43.233314  47.905637  40.275738\n",
       "...                    ...        ...        ...        ...        ...\n",
       "54450  2022-04-27 08:15:00  52.934261  43.523993  48.993921  41.531379\n",
       "54451  2022-04-27 08:20:00  45.670143  44.153303  48.976375  41.511059\n",
       "54452  2022-04-27 08:25:00  52.406526  43.776804  48.976953  41.511774\n",
       "54453  2022-04-27 08:30:00  45.403079  43.968268  48.965460  41.498325\n",
       "54454  2022-04-27 08:35:00  51.940348  43.701352  48.927738  41.454679\n",
       "\n",
       "[54455 rows x 5 columns]"
      ]
     },
     "execution_count": 2,
     "metadata": {},
     "output_type": "execute_result"
    }
   ],
   "source": [
    "# Dataset loading\n",
    "# dataFrame = pd.read_csv('final_data_adj.csv') # https://github.com/SusmitSekharBhakta/Stock-market-price-prediction/blob/main/final_data_adj.csv\n",
    "\n",
    "# ИТП дс171\n",
    "df_filter = pd.read_csv('DC171_2021-2022_5min.csv', # путь к файлу, (используй автодотолнение)\n",
    "                   sep=',', # разделитель данных в файле\n",
    "                 \n",
    "                   #  header= {None|Целочисленное} номер строки с заголовками, нумерация с нуля\n",
    "                   header=0,       #если заголовки в нулевой строке таблицы\n",
    "                   #  header=None  #если заголовки отсутствуют\n",
    "\n",
    "    \n",
    ") \n",
    "\n",
    "# colNamesList_fil = ['timestamp','Температура наружного воздуха', 'Температура прямой сетевой воды', 'Температура обратной сетевой воды', 'Рассчитанная температура смеси на отопление', 'Рассчитанная температура обратной смеси', 'Delta']\n",
    "\n",
    "# df_filter.columns = (colNamesList_fil)\n",
    "# df_85.columns = (colNamesList)\n",
    "# df_filter\n",
    "dataFrame = df_filter\n",
    "dataFrame"
   ]
  },
  {
   "cell_type": "code",
   "execution_count": 3,
   "id": "cf27ea0e-ceb0-4988-a13f-147958a127f6",
   "metadata": {},
   "outputs": [],
   "source": [
    "dataFrame['timestamp'] = pd.to_datetime(dataFrame['timestamp'])\n",
    "dataFrame = dataFrame.set_index('timestamp')"
   ]
  },
  {
   "cell_type": "code",
   "execution_count": 4,
   "id": "3bca9f0b-6e7d-43fe-a6e0-2ebd306ed930",
   "metadata": {},
   "outputs": [
    {
     "name": "stdout",
     "output_type": "stream",
     "text": [
      "           Tsup     Tback    SP_sup   SP_back      hour  day_of_week  \\\n",
      "0      0.402893  0.523380  0.245408  0.308152  0.565217     0.166667   \n",
      "1      0.440970  0.518617  0.244997  0.307628  0.565217     0.166667   \n",
      "2      0.498591  0.504465  0.243823  0.306153  0.608696     0.166667   \n",
      "3      0.410547  0.524829  0.242479  0.304458  0.608696     0.166667   \n",
      "4      0.489902  0.503712  0.240693  0.302228  0.608696     0.166667   \n",
      "...         ...       ...       ...       ...       ...          ...   \n",
      "54450  0.545183  0.510897  0.270106  0.339158  0.347826     0.333333   \n",
      "54451  0.413804  0.526451  0.269632  0.338561  0.347826     0.333333   \n",
      "54452  0.535639  0.517145  0.269647  0.338582  0.347826     0.333333   \n",
      "54453  0.408973  0.521877  0.269337  0.338186  0.347826     0.333333   \n",
      "54454  0.527207  0.515280  0.268317  0.336902  0.347826     0.333333   \n",
      "\n",
      "       day_of_year  \n",
      "0         0.760989  \n",
      "1         0.760989  \n",
      "2         0.760989  \n",
      "3         0.760989  \n",
      "4         0.760989  \n",
      "...            ...  \n",
      "54450     0.318681  \n",
      "54451     0.318681  \n",
      "54452     0.318681  \n",
      "54453     0.318681  \n",
      "54454     0.318681  \n",
      "\n",
      "[54455 rows x 7 columns]\n",
      "           Tsup     Tback    SP_sup   SP_back      hour  day_of_week  \\\n",
      "0     -1.274438 -0.763956 -0.930054 -0.974674  0.212541    -0.999875   \n",
      "1     -0.988658 -0.799011 -0.932146 -0.977470  0.212541    -0.999875   \n",
      "2     -0.556189 -0.903183 -0.938124 -0.985332  0.356586    -0.999875   \n",
      "3     -1.216995 -0.753291 -0.944973 -0.994362  0.356586    -0.999875   \n",
      "4     -0.621406 -0.908721 -0.954071 -1.006252  0.356586    -0.999875   \n",
      "...         ...       ...       ...       ...       ...          ...   \n",
      "54450 -0.206496 -0.855840 -0.804239 -0.809416 -0.507686    -0.504012   \n",
      "54451 -1.192553 -0.741353 -0.806655 -0.812601 -0.507686    -0.504012   \n",
      "54452 -0.278133 -0.809847 -0.806575 -0.812489 -0.507686    -0.504012   \n",
      "54453 -1.228805 -0.775015 -0.808158 -0.814597 -0.507686    -0.504012   \n",
      "54454 -0.341413 -0.823574 -0.813351 -0.821439 -0.507686    -0.504012   \n",
      "\n",
      "       day_of_year  \n",
      "0         0.723154  \n",
      "1         0.723154  \n",
      "2         0.723154  \n",
      "3         0.723154  \n",
      "4         0.723154  \n",
      "...            ...  \n",
      "54450    -0.503629  \n",
      "54451    -0.503629  \n",
      "54452    -0.503629  \n",
      "54453    -0.503629  \n",
      "54454    -0.503629  \n",
      "\n",
      "[54455 rows x 7 columns]\n",
      "           Tsup     Tback    SP_sup   SP_back      hour  day_of_week  \\\n",
      "0     -0.815011 -0.387791 -0.479965 -0.586557  0.076923        -0.50   \n",
      "1     -0.608955 -0.411631 -0.481427 -0.588505  0.076923        -0.50   \n",
      "2     -0.297131 -0.482475 -0.485604 -0.593984  0.153846        -0.50   \n",
      "3     -0.773593 -0.380538 -0.490390 -0.600277  0.153846        -0.50   \n",
      "4     -0.344154 -0.486241 -0.496748 -0.608563  0.153846        -0.50   \n",
      "...         ...       ...       ...       ...       ...          ...   \n",
      "54450 -0.044991 -0.450278 -0.392047 -0.471388 -0.307692        -0.25   \n",
      "54451 -0.755970 -0.372419 -0.393735 -0.473608 -0.307692        -0.25   \n",
      "54452 -0.096643 -0.419000 -0.393679 -0.473530 -0.307692        -0.25   \n",
      "54453 -0.782109 -0.395312 -0.394785 -0.474999 -0.307692        -0.25   \n",
      "54454 -0.142270 -0.428335 -0.398414 -0.479767 -0.307692        -0.25   \n",
      "\n",
      "       day_of_year  \n",
      "0         0.660156  \n",
      "1         0.660156  \n",
      "2         0.660156  \n",
      "3         0.660156  \n",
      "4         0.660156  \n",
      "...            ...  \n",
      "54450     0.031250  \n",
      "54451     0.031250  \n",
      "54452     0.031250  \n",
      "54453     0.031250  \n",
      "54454     0.031250  \n",
      "\n",
      "[54455 rows x 7 columns]\n"
     ]
    }
   ],
   "source": [
    "# dataFrame['Delta'] = dataFrame['Tsup'] - dataFrame['Tback']\n",
    "dataFrame.loc[:, 'hour'] = dataFrame.index.hour\n",
    "dataFrame.loc[:, 'day_of_week'] = dataFrame.index.weekday\n",
    "dataFrame.loc[:, 'day_of_year'] = dataFrame.index.dayofyear\n",
    "\n",
    "# Минимаксная нормализация\n",
    "scaler = MinMaxScaler(feature_range=(0, 1))\n",
    "data_normalized = scaler.fit_transform(dataFrame)\n",
    "data_normalized = pd.DataFrame(data_normalized, columns=list(dataFrame.columns))\n",
    "\n",
    "# Стандартизация\n",
    "scaler = StandardScaler()\n",
    "data_standardized = scaler.fit_transform(dataFrame)\n",
    "data_standardized = pd.DataFrame(data_standardized, columns=list(dataFrame.columns))\n",
    "\n",
    "# Масштабирование по медиане и IQR\n",
    "scaler = RobustScaler()\n",
    "data_robust_scaled = scaler.fit_transform(dataFrame)\n",
    "data_robust_scaled = pd.DataFrame(data_robust_scaled, columns=list(dataFrame.columns))\n",
    "\n",
    "\n",
    "print(data_normalized)\n",
    "print(data_standardized)\n",
    "print(data_robust_scaled)"
   ]
  },
  {
   "cell_type": "code",
   "execution_count": 5,
   "id": "e0b3ba8c-cd2d-4260-bfc1-4db5cd0c2a85",
   "metadata": {},
   "outputs": [],
   "source": [
    "def singleStepSamplerOptimized(df, window):\n",
    "    n_samples = len(df) - window\n",
    "    n_features = df.shape[1]\n",
    "    xRes = np.zeros((n_samples, window, n_features))\n",
    "    yRes = np.zeros((n_samples, 4))  # Предполагаем, что у вас 5 целевых колонок\n",
    "\n",
    "    for i in range(n_samples):\n",
    "        xRes[i] = df.iloc[i:i+window].values\n",
    "        yRes[i] = df[['Tback', 'Tsup', 'SP_back', 'SP_sup']].iloc[i + window].values\n",
    "\n",
    "    return xRes, yRes\n",
    "\n",
    "\n",
    "from concurrent.futures import ThreadPoolExecutor\n",
    "\n",
    "def process_sample(i, df, window):\n",
    "    x_sample = df.iloc[i:i+window].values\n",
    "    y_sample = df[['Tback', 'Tsup', 'SP_back', 'SP_sup']].iloc[i + window].values\n",
    "    return x_sample, y_sample\n",
    "\n",
    "def singleStepSamplerParallel(df, window):\n",
    "    n_samples = len(df) - window\n",
    "    results = []\n",
    "    \n",
    "    with ThreadPoolExecutor() as executor:\n",
    "        futures = [executor.submit(process_sample, i, df, window) for i in range(n_samples)]\n",
    "        results = [f.result() for f in futures]\n",
    "\n",
    "    xRes, yRes = zip(*results)\n",
    "    return np.array(xRes), np.array(yRes)\n",
    "\n"
   ]
  },
  {
   "cell_type": "code",
   "execution_count": 6,
   "id": "9dcf3dfb-4337-4251-9909-c5f44d217482",
   "metadata": {},
   "outputs": [],
   "source": [
    "# data_array = data_normalized.values\n",
    "seq_length = 12"
   ]
  },
  {
   "cell_type": "code",
   "execution_count": 7,
   "id": "98bca0dd-d38e-4d01-b54b-a98855d05c45",
   "metadata": {},
   "outputs": [],
   "source": [
    "X, y = singleStepSamplerOptimized(data_normalized, seq_length)"
   ]
  },
  {
   "cell_type": "code",
   "execution_count": 8,
   "id": "2e40fb20-401a-499d-aae0-5c432246437a",
   "metadata": {},
   "outputs": [
    {
     "data": {
      "text/plain": [
       "(54443, 12, 7)"
      ]
     },
     "execution_count": 8,
     "metadata": {},
     "output_type": "execute_result"
    }
   ],
   "source": [
    "X.shape"
   ]
  },
  {
   "cell_type": "code",
   "execution_count": 9,
   "id": "11ae7fd3-31c2-4ab8-ba99-ec3260b8a01e",
   "metadata": {},
   "outputs": [
    {
     "data": {
      "text/plain": [
       "(54443, 4)"
      ]
     },
     "execution_count": 9,
     "metadata": {},
     "output_type": "execute_result"
    }
   ],
   "source": [
    "y.shape"
   ]
  },
  {
   "cell_type": "code",
   "execution_count": 10,
   "id": "c9d398da-7758-486b-8684-5cf45e043a5f",
   "metadata": {},
   "outputs": [],
   "source": [
    "from sklearn.model_selection import train_test_split\n",
    "\n",
    "X_train, X_test, y_train, y_test = train_test_split(X, y, test_size=0.2, random_state=42)"
   ]
  },
  {
   "cell_type": "code",
   "execution_count": 11,
   "id": "0e2bf360-93a7-4112-8cd6-1fca7a0779d1",
   "metadata": {},
   "outputs": [
    {
     "data": {
      "text/plain": [
       "(43554, 12, 7)"
      ]
     },
     "execution_count": 11,
     "metadata": {},
     "output_type": "execute_result"
    }
   ],
   "source": [
    "X_train.shape"
   ]
  },
  {
   "cell_type": "code",
   "execution_count": 12,
   "id": "0f336a68-b976-4551-91ba-7f19ff81a162",
   "metadata": {},
   "outputs": [
    {
     "data": {
      "text/plain": [
       "(10889, 12, 7)"
      ]
     },
     "execution_count": 12,
     "metadata": {},
     "output_type": "execute_result"
    }
   ],
   "source": [
    "X_test.shape"
   ]
  },
  {
   "cell_type": "code",
   "execution_count": 13,
   "id": "e502f095-470c-4970-a394-35c9ae7f27a5",
   "metadata": {},
   "outputs": [
    {
     "name": "stderr",
     "output_type": "stream",
     "text": [
      "/opt/homebrew/lib/python3.10/site-packages/keras/src/layers/rnn/rnn.py:204: UserWarning: Do not pass an `input_shape`/`input_dim` argument to a layer. When using Sequential models, prefer using an `Input(shape)` object as the first layer in the model instead.\n",
      "  super().__init__(**kwargs)\n"
     ]
    },
    {
     "data": {
      "text/html": [
       "<pre style=\"white-space:pre;overflow-x:auto;line-height:normal;font-family:Menlo,'DejaVu Sans Mono',consolas,'Courier New',monospace\"><span style=\"font-weight: bold\">Model: \"sequential\"</span>\n",
       "</pre>\n"
      ],
      "text/plain": [
       "\u001b[1mModel: \"sequential\"\u001b[0m\n"
      ]
     },
     "metadata": {},
     "output_type": "display_data"
    },
    {
     "data": {
      "text/html": [
       "<pre style=\"white-space:pre;overflow-x:auto;line-height:normal;font-family:Menlo,'DejaVu Sans Mono',consolas,'Courier New',monospace\">┏━━━━━━━━━━━━━━━━━━━━━━━━━━━━━━━━━┳━━━━━━━━━━━━━━━━━━━━━━━━┳━━━━━━━━━━━━━━━┓\n",
       "┃<span style=\"font-weight: bold\"> Layer (type)                    </span>┃<span style=\"font-weight: bold\"> Output Shape           </span>┃<span style=\"font-weight: bold\">       Param # </span>┃\n",
       "┡━━━━━━━━━━━━━━━━━━━━━━━━━━━━━━━━━╇━━━━━━━━━━━━━━━━━━━━━━━━╇━━━━━━━━━━━━━━━┩\n",
       "│ lstm (<span style=\"color: #0087ff; text-decoration-color: #0087ff\">LSTM</span>)                     │ (<span style=\"color: #00d7ff; text-decoration-color: #00d7ff\">None</span>, <span style=\"color: #00af00; text-decoration-color: #00af00\">100</span>)            │        <span style=\"color: #00af00; text-decoration-color: #00af00\">43,200</span> │\n",
       "├─────────────────────────────────┼────────────────────────┼───────────────┤\n",
       "│ dropout (<span style=\"color: #0087ff; text-decoration-color: #0087ff\">Dropout</span>)               │ (<span style=\"color: #00d7ff; text-decoration-color: #00d7ff\">None</span>, <span style=\"color: #00af00; text-decoration-color: #00af00\">100</span>)            │             <span style=\"color: #00af00; text-decoration-color: #00af00\">0</span> │\n",
       "├─────────────────────────────────┼────────────────────────┼───────────────┤\n",
       "│ dense (<span style=\"color: #0087ff; text-decoration-color: #0087ff\">Dense</span>)                   │ (<span style=\"color: #00d7ff; text-decoration-color: #00d7ff\">None</span>, <span style=\"color: #00af00; text-decoration-color: #00af00\">4</span>)              │           <span style=\"color: #00af00; text-decoration-color: #00af00\">404</span> │\n",
       "└─────────────────────────────────┴────────────────────────┴───────────────┘\n",
       "</pre>\n"
      ],
      "text/plain": [
       "┏━━━━━━━━━━━━━━━━━━━━━━━━━━━━━━━━━┳━━━━━━━━━━━━━━━━━━━━━━━━┳━━━━━━━━━━━━━━━┓\n",
       "┃\u001b[1m \u001b[0m\u001b[1mLayer (type)                   \u001b[0m\u001b[1m \u001b[0m┃\u001b[1m \u001b[0m\u001b[1mOutput Shape          \u001b[0m\u001b[1m \u001b[0m┃\u001b[1m \u001b[0m\u001b[1m      Param #\u001b[0m\u001b[1m \u001b[0m┃\n",
       "┡━━━━━━━━━━━━━━━━━━━━━━━━━━━━━━━━━╇━━━━━━━━━━━━━━━━━━━━━━━━╇━━━━━━━━━━━━━━━┩\n",
       "│ lstm (\u001b[38;5;33mLSTM\u001b[0m)                     │ (\u001b[38;5;45mNone\u001b[0m, \u001b[38;5;34m100\u001b[0m)            │        \u001b[38;5;34m43,200\u001b[0m │\n",
       "├─────────────────────────────────┼────────────────────────┼───────────────┤\n",
       "│ dropout (\u001b[38;5;33mDropout\u001b[0m)               │ (\u001b[38;5;45mNone\u001b[0m, \u001b[38;5;34m100\u001b[0m)            │             \u001b[38;5;34m0\u001b[0m │\n",
       "├─────────────────────────────────┼────────────────────────┼───────────────┤\n",
       "│ dense (\u001b[38;5;33mDense\u001b[0m)                   │ (\u001b[38;5;45mNone\u001b[0m, \u001b[38;5;34m4\u001b[0m)              │           \u001b[38;5;34m404\u001b[0m │\n",
       "└─────────────────────────────────┴────────────────────────┴───────────────┘\n"
      ]
     },
     "metadata": {},
     "output_type": "display_data"
    },
    {
     "data": {
      "text/html": [
       "<pre style=\"white-space:pre;overflow-x:auto;line-height:normal;font-family:Menlo,'DejaVu Sans Mono',consolas,'Courier New',monospace\"><span style=\"font-weight: bold\"> Total params: </span><span style=\"color: #00af00; text-decoration-color: #00af00\">43,604</span> (170.33 KB)\n",
       "</pre>\n"
      ],
      "text/plain": [
       "\u001b[1m Total params: \u001b[0m\u001b[38;5;34m43,604\u001b[0m (170.33 KB)\n"
      ]
     },
     "metadata": {},
     "output_type": "display_data"
    },
    {
     "data": {
      "text/html": [
       "<pre style=\"white-space:pre;overflow-x:auto;line-height:normal;font-family:Menlo,'DejaVu Sans Mono',consolas,'Courier New',monospace\"><span style=\"font-weight: bold\"> Trainable params: </span><span style=\"color: #00af00; text-decoration-color: #00af00\">43,604</span> (170.33 KB)\n",
       "</pre>\n"
      ],
      "text/plain": [
       "\u001b[1m Trainable params: \u001b[0m\u001b[38;5;34m43,604\u001b[0m (170.33 KB)\n"
      ]
     },
     "metadata": {},
     "output_type": "display_data"
    },
    {
     "data": {
      "text/html": [
       "<pre style=\"white-space:pre;overflow-x:auto;line-height:normal;font-family:Menlo,'DejaVu Sans Mono',consolas,'Courier New',monospace\"><span style=\"font-weight: bold\"> Non-trainable params: </span><span style=\"color: #00af00; text-decoration-color: #00af00\">0</span> (0.00 B)\n",
       "</pre>\n"
      ],
      "text/plain": [
       "\u001b[1m Non-trainable params: \u001b[0m\u001b[38;5;34m0\u001b[0m (0.00 B)\n"
      ]
     },
     "metadata": {},
     "output_type": "display_data"
    }
   ],
   "source": [
    "from tensorflow.keras.models import Sequential\n",
    "from tensorflow.keras.layers import LSTM, Dense\n",
    "\n",
    "model = Sequential()\n",
    "model.add(LSTM(100, activation='sigmoid',input_shape=(X_train.shape[1], X_train.shape[2])))  # 50 нейронов в LSTM слое\n",
    "model.add(keras.layers.Dropout(0.2))\n",
    "model.add(Dense(4))\n",
    "\n",
    "model.compile(loss = 'mse', metrics=['mse'], optimizer='adam')\n",
    "model.compile(optimizer='adam', loss='mean_squared_error')\n",
    "\n",
    "model.summary()"
   ]
  },
  {
   "cell_type": "code",
   "execution_count": 14,
   "id": "8521cc12-40a0-41ed-9d46-b8db29d0fa96",
   "metadata": {},
   "outputs": [
    {
     "name": "stdout",
     "output_type": "stream",
     "text": [
      "Epoch 1/50\n",
      "\u001b[1m1362/1362\u001b[0m \u001b[32m━━━━━━━━━━━━━━━━━━━━\u001b[0m\u001b[37m\u001b[0m \u001b[1m5s\u001b[0m 3ms/step - loss: 0.0497 - val_loss: 0.0011\n",
      "Epoch 2/50\n",
      "\u001b[1m1362/1362\u001b[0m \u001b[32m━━━━━━━━━━━━━━━━━━━━\u001b[0m\u001b[37m\u001b[0m \u001b[1m5s\u001b[0m 4ms/step - loss: 0.0043 - val_loss: 0.0011\n",
      "Epoch 3/50\n",
      "\u001b[1m1362/1362\u001b[0m \u001b[32m━━━━━━━━━━━━━━━━━━━━\u001b[0m\u001b[37m\u001b[0m \u001b[1m5s\u001b[0m 3ms/step - loss: 0.0023 - val_loss: 0.0010\n",
      "Epoch 4/50\n",
      "\u001b[1m1362/1362\u001b[0m \u001b[32m━━━━━━━━━━━━━━━━━━━━\u001b[0m\u001b[37m\u001b[0m \u001b[1m5s\u001b[0m 3ms/step - loss: 0.0017 - val_loss: 9.4492e-04\n",
      "Epoch 5/50\n",
      "\u001b[1m1362/1362\u001b[0m \u001b[32m━━━━━━━━━━━━━━━━━━━━\u001b[0m\u001b[37m\u001b[0m \u001b[1m5s\u001b[0m 3ms/step - loss: 0.0014 - val_loss: 9.0130e-04\n",
      "Epoch 6/50\n",
      "\u001b[1m1362/1362\u001b[0m \u001b[32m━━━━━━━━━━━━━━━━━━━━\u001b[0m\u001b[37m\u001b[0m \u001b[1m5s\u001b[0m 4ms/step - loss: 0.0013 - val_loss: 8.4768e-04\n",
      "Epoch 7/50\n",
      "\u001b[1m1362/1362\u001b[0m \u001b[32m━━━━━━━━━━━━━━━━━━━━\u001b[0m\u001b[37m\u001b[0m \u001b[1m5s\u001b[0m 3ms/step - loss: 0.0011 - val_loss: 8.0970e-04\n",
      "Epoch 8/50\n",
      "\u001b[1m1362/1362\u001b[0m \u001b[32m━━━━━━━━━━━━━━━━━━━━\u001b[0m\u001b[37m\u001b[0m \u001b[1m5s\u001b[0m 4ms/step - loss: 0.0011 - val_loss: 8.3107e-04\n",
      "Epoch 9/50\n",
      "\u001b[1m1362/1362\u001b[0m \u001b[32m━━━━━━━━━━━━━━━━━━━━\u001b[0m\u001b[37m\u001b[0m \u001b[1m5s\u001b[0m 3ms/step - loss: 0.0010 - val_loss: 7.8704e-04\n",
      "Epoch 10/50\n",
      "\u001b[1m1362/1362\u001b[0m \u001b[32m━━━━━━━━━━━━━━━━━━━━\u001b[0m\u001b[37m\u001b[0m \u001b[1m5s\u001b[0m 3ms/step - loss: 9.8233e-04 - val_loss: 7.5010e-04\n",
      "Epoch 11/50\n",
      "\u001b[1m1362/1362\u001b[0m \u001b[32m━━━━━━━━━━━━━━━━━━━━\u001b[0m\u001b[37m\u001b[0m \u001b[1m5s\u001b[0m 3ms/step - loss: 9.4091e-04 - val_loss: 7.3549e-04\n",
      "Epoch 12/50\n",
      "\u001b[1m1362/1362\u001b[0m \u001b[32m━━━━━━━━━━━━━━━━━━━━\u001b[0m\u001b[37m\u001b[0m \u001b[1m5s\u001b[0m 3ms/step - loss: 9.3983e-04 - val_loss: 7.1387e-04\n",
      "Epoch 13/50\n",
      "\u001b[1m1362/1362\u001b[0m \u001b[32m━━━━━━━━━━━━━━━━━━━━\u001b[0m\u001b[37m\u001b[0m \u001b[1m5s\u001b[0m 4ms/step - loss: 9.1401e-04 - val_loss: 7.7354e-04\n",
      "Epoch 14/50\n",
      "\u001b[1m1362/1362\u001b[0m \u001b[32m━━━━━━━━━━━━━━━━━━━━\u001b[0m\u001b[37m\u001b[0m \u001b[1m5s\u001b[0m 4ms/step - loss: 8.9560e-04 - val_loss: 6.6309e-04\n",
      "Epoch 15/50\n",
      "\u001b[1m1362/1362\u001b[0m \u001b[32m━━━━━━━━━━━━━━━━━━━━\u001b[0m\u001b[37m\u001b[0m \u001b[1m5s\u001b[0m 4ms/step - loss: 8.6167e-04 - val_loss: 6.3544e-04\n",
      "Epoch 16/50\n",
      "\u001b[1m1362/1362\u001b[0m \u001b[32m━━━━━━━━━━━━━━━━━━━━\u001b[0m\u001b[37m\u001b[0m \u001b[1m5s\u001b[0m 4ms/step - loss: 8.5403e-04 - val_loss: 6.7089e-04\n",
      "Epoch 17/50\n",
      "\u001b[1m1362/1362\u001b[0m \u001b[32m━━━━━━━━━━━━━━━━━━━━\u001b[0m\u001b[37m\u001b[0m \u001b[1m5s\u001b[0m 4ms/step - loss: 8.3491e-04 - val_loss: 6.4113e-04\n",
      "Epoch 18/50\n",
      "\u001b[1m1362/1362\u001b[0m \u001b[32m━━━━━━━━━━━━━━━━━━━━\u001b[0m\u001b[37m\u001b[0m \u001b[1m6s\u001b[0m 4ms/step - loss: 8.1651e-04 - val_loss: 5.8031e-04\n",
      "Epoch 19/50\n",
      "\u001b[1m1362/1362\u001b[0m \u001b[32m━━━━━━━━━━━━━━━━━━━━\u001b[0m\u001b[37m\u001b[0m \u001b[1m6s\u001b[0m 4ms/step - loss: 8.1167e-04 - val_loss: 5.6567e-04\n",
      "Epoch 20/50\n",
      "\u001b[1m1362/1362\u001b[0m \u001b[32m━━━━━━━━━━━━━━━━━━━━\u001b[0m\u001b[37m\u001b[0m \u001b[1m5s\u001b[0m 4ms/step - loss: 7.9165e-04 - val_loss: 6.6079e-04\n",
      "Epoch 21/50\n",
      "\u001b[1m1362/1362\u001b[0m \u001b[32m━━━━━━━━━━━━━━━━━━━━\u001b[0m\u001b[37m\u001b[0m \u001b[1m5s\u001b[0m 4ms/step - loss: 7.3879e-04 - val_loss: 4.3505e-04\n",
      "Epoch 22/50\n",
      "\u001b[1m1362/1362\u001b[0m \u001b[32m━━━━━━━━━━━━━━━━━━━━\u001b[0m\u001b[37m\u001b[0m \u001b[1m5s\u001b[0m 4ms/step - loss: 6.7275e-04 - val_loss: 4.1520e-04\n",
      "Epoch 23/50\n",
      "\u001b[1m1362/1362\u001b[0m \u001b[32m━━━━━━━━━━━━━━━━━━━━\u001b[0m\u001b[37m\u001b[0m \u001b[1m5s\u001b[0m 4ms/step - loss: 6.5241e-04 - val_loss: 3.8691e-04\n",
      "Epoch 24/50\n",
      "\u001b[1m1362/1362\u001b[0m \u001b[32m━━━━━━━━━━━━━━━━━━━━\u001b[0m\u001b[37m\u001b[0m \u001b[1m5s\u001b[0m 4ms/step - loss: 6.5569e-04 - val_loss: 3.6781e-04\n",
      "Epoch 25/50\n",
      "\u001b[1m1362/1362\u001b[0m \u001b[32m━━━━━━━━━━━━━━━━━━━━\u001b[0m\u001b[37m\u001b[0m \u001b[1m5s\u001b[0m 4ms/step - loss: 6.2929e-04 - val_loss: 3.6993e-04\n",
      "Epoch 26/50\n",
      "\u001b[1m1362/1362\u001b[0m \u001b[32m━━━━━━━━━━━━━━━━━━━━\u001b[0m\u001b[37m\u001b[0m \u001b[1m5s\u001b[0m 4ms/step - loss: 6.1829e-04 - val_loss: 3.8913e-04\n",
      "Epoch 27/50\n",
      "\u001b[1m1362/1362\u001b[0m \u001b[32m━━━━━━━━━━━━━━━━━━━━\u001b[0m\u001b[37m\u001b[0m \u001b[1m5s\u001b[0m 4ms/step - loss: 6.0473e-04 - val_loss: 3.7626e-04\n",
      "Epoch 28/50\n",
      "\u001b[1m1362/1362\u001b[0m \u001b[32m━━━━━━━━━━━━━━━━━━━━\u001b[0m\u001b[37m\u001b[0m \u001b[1m5s\u001b[0m 4ms/step - loss: 6.0331e-04 - val_loss: 3.8838e-04\n",
      "Epoch 29/50\n",
      "\u001b[1m1362/1362\u001b[0m \u001b[32m━━━━━━━━━━━━━━━━━━━━\u001b[0m\u001b[37m\u001b[0m \u001b[1m5s\u001b[0m 4ms/step - loss: 6.0094e-04 - val_loss: 3.3952e-04\n",
      "Epoch 30/50\n",
      "\u001b[1m1362/1362\u001b[0m \u001b[32m━━━━━━━━━━━━━━━━━━━━\u001b[0m\u001b[37m\u001b[0m \u001b[1m5s\u001b[0m 4ms/step - loss: 5.9573e-04 - val_loss: 3.3342e-04\n",
      "Epoch 31/50\n",
      "\u001b[1m1362/1362\u001b[0m \u001b[32m━━━━━━━━━━━━━━━━━━━━\u001b[0m\u001b[37m\u001b[0m \u001b[1m5s\u001b[0m 4ms/step - loss: 5.8137e-04 - val_loss: 3.4240e-04\n",
      "Epoch 32/50\n",
      "\u001b[1m1362/1362\u001b[0m \u001b[32m━━━━━━━━━━━━━━━━━━━━\u001b[0m\u001b[37m\u001b[0m \u001b[1m5s\u001b[0m 4ms/step - loss: 5.7830e-04 - val_loss: 3.3866e-04\n",
      "Epoch 33/50\n",
      "\u001b[1m1362/1362\u001b[0m \u001b[32m━━━━━━━━━━━━━━━━━━━━\u001b[0m\u001b[37m\u001b[0m \u001b[1m5s\u001b[0m 4ms/step - loss: 5.7037e-04 - val_loss: 3.0630e-04\n",
      "Epoch 34/50\n",
      "\u001b[1m1362/1362\u001b[0m \u001b[32m━━━━━━━━━━━━━━━━━━━━\u001b[0m\u001b[37m\u001b[0m \u001b[1m5s\u001b[0m 4ms/step - loss: 5.6477e-04 - val_loss: 3.4606e-04\n",
      "Epoch 35/50\n",
      "\u001b[1m1362/1362\u001b[0m \u001b[32m━━━━━━━━━━━━━━━━━━━━\u001b[0m\u001b[37m\u001b[0m \u001b[1m5s\u001b[0m 4ms/step - loss: 5.7563e-04 - val_loss: 3.5081e-04\n",
      "Epoch 36/50\n",
      "\u001b[1m1362/1362\u001b[0m \u001b[32m━━━━━━━━━━━━━━━━━━━━\u001b[0m\u001b[37m\u001b[0m \u001b[1m5s\u001b[0m 4ms/step - loss: 5.6639e-04 - val_loss: 3.3685e-04\n",
      "Epoch 37/50\n",
      "\u001b[1m1362/1362\u001b[0m \u001b[32m━━━━━━━━━━━━━━━━━━━━\u001b[0m\u001b[37m\u001b[0m \u001b[1m5s\u001b[0m 4ms/step - loss: 5.6316e-04 - val_loss: 3.5609e-04\n",
      "Epoch 38/50\n",
      "\u001b[1m1362/1362\u001b[0m \u001b[32m━━━━━━━━━━━━━━━━━━━━\u001b[0m\u001b[37m\u001b[0m \u001b[1m5s\u001b[0m 4ms/step - loss: 5.4816e-04 - val_loss: 3.0405e-04\n",
      "Epoch 39/50\n",
      "\u001b[1m1362/1362\u001b[0m \u001b[32m━━━━━━━━━━━━━━━━━━━━\u001b[0m\u001b[37m\u001b[0m \u001b[1m5s\u001b[0m 4ms/step - loss: 5.5833e-04 - val_loss: 3.7192e-04\n",
      "Epoch 40/50\n",
      "\u001b[1m1362/1362\u001b[0m \u001b[32m━━━━━━━━━━━━━━━━━━━━\u001b[0m\u001b[37m\u001b[0m \u001b[1m6s\u001b[0m 4ms/step - loss: 5.5150e-04 - val_loss: 3.0301e-04\n",
      "Epoch 41/50\n",
      "\u001b[1m1362/1362\u001b[0m \u001b[32m━━━━━━━━━━━━━━━━━━━━\u001b[0m\u001b[37m\u001b[0m \u001b[1m6s\u001b[0m 4ms/step - loss: 5.5125e-04 - val_loss: 3.2828e-04\n",
      "Epoch 42/50\n",
      "\u001b[1m1362/1362\u001b[0m \u001b[32m━━━━━━━━━━━━━━━━━━━━\u001b[0m\u001b[37m\u001b[0m \u001b[1m6s\u001b[0m 4ms/step - loss: 5.3606e-04 - val_loss: 2.8052e-04\n",
      "Epoch 43/50\n",
      "\u001b[1m1362/1362\u001b[0m \u001b[32m━━━━━━━━━━━━━━━━━━━━\u001b[0m\u001b[37m\u001b[0m \u001b[1m5s\u001b[0m 4ms/step - loss: 5.4299e-04 - val_loss: 3.5340e-04\n",
      "Epoch 44/50\n",
      "\u001b[1m1362/1362\u001b[0m \u001b[32m━━━━━━━━━━━━━━━━━━━━\u001b[0m\u001b[37m\u001b[0m \u001b[1m6s\u001b[0m 4ms/step - loss: 5.4290e-04 - val_loss: 3.4018e-04\n",
      "Epoch 45/50\n",
      "\u001b[1m1362/1362\u001b[0m \u001b[32m━━━━━━━━━━━━━━━━━━━━\u001b[0m\u001b[37m\u001b[0m \u001b[1m6s\u001b[0m 4ms/step - loss: 5.2962e-04 - val_loss: 2.8570e-04\n",
      "Epoch 46/50\n",
      "\u001b[1m1362/1362\u001b[0m \u001b[32m━━━━━━━━━━━━━━━━━━━━\u001b[0m\u001b[37m\u001b[0m \u001b[1m6s\u001b[0m 4ms/step - loss: 5.3821e-04 - val_loss: 2.9834e-04\n",
      "Epoch 47/50\n",
      "\u001b[1m1362/1362\u001b[0m \u001b[32m━━━━━━━━━━━━━━━━━━━━\u001b[0m\u001b[37m\u001b[0m \u001b[1m6s\u001b[0m 4ms/step - loss: 5.2940e-04 - val_loss: 3.0244e-04\n",
      "Epoch 48/50\n",
      "\u001b[1m1362/1362\u001b[0m \u001b[32m━━━━━━━━━━━━━━━━━━━━\u001b[0m\u001b[37m\u001b[0m \u001b[1m6s\u001b[0m 4ms/step - loss: 5.3081e-04 - val_loss: 2.7465e-04\n",
      "Epoch 49/50\n",
      "\u001b[1m1362/1362\u001b[0m \u001b[32m━━━━━━━━━━━━━━━━━━━━\u001b[0m\u001b[37m\u001b[0m \u001b[1m6s\u001b[0m 4ms/step - loss: 5.2879e-04 - val_loss: 2.9320e-04\n",
      "Epoch 50/50\n",
      "\u001b[1m1362/1362\u001b[0m \u001b[32m━━━━━━━━━━━━━━━━━━━━\u001b[0m\u001b[37m\u001b[0m \u001b[1m5s\u001b[0m 4ms/step - loss: 5.3102e-04 - val_loss: 2.8096e-04\n"
     ]
    }
   ],
   "source": [
    "history=model.fit(X_train, y_train, epochs=50,\n",
    "validation_data=(X_test, y_test))"
   ]
  },
  {
   "cell_type": "code",
   "execution_count": 15,
   "id": "941692f0-b22a-4621-81cd-9ce12d3bc4c1",
   "metadata": {},
   "outputs": [
    {
     "data": {
      "image/png": "[encoded data removed]",
      "text/plain": [
       "<Figure size 640x480 with 1 Axes>"
      ]
     },
     "metadata": {},
     "output_type": "display_data"
    }
   ],
   "source": [
    "plt.plot(history.history['loss'])\n",
    "plt.title('Model Loss')\n",
    "plt.ylabel('Loss')\n",
    "plt.xlabel('Epoch')\n",
    "plt.show()"
   ]
  },
  {
   "cell_type": "code",
   "execution_count": 16,
   "id": "860e6d78-4d2a-4faf-8c04-97c84b23658b",
   "metadata": {},
   "outputs": [
    {
     "name": "stdout",
     "output_type": "stream",
     "text": [
      "Train Score: 0.00 MSE (0.02 RMSE)\n",
      "Test Score: 0.00 MSE (0.02 RMSE)\n",
      "\u001b[1m341/341\u001b[0m \u001b[32m━━━━━━━━━━━━━━━━━━━━\u001b[0m\u001b[37m\u001b[0m \u001b[1m1s\u001b[0m 2ms/step\n",
      "R-squared: 0.9846254159705916\n"
     ]
    }
   ],
   "source": [
    "trainScore = model.evaluate(X_train, y_train, verbose=0)\n",
    "print('Train Score: %.2f MSE (%.2f RMSE)' % (trainScore, math.sqrt(trainScore)))\n",
    "testScore = model.evaluate(X_test, y_test, verbose=0)\n",
    "print('Test Score: %.2f MSE (%.2f RMSE)' % (testScore, math.sqrt(testScore)))\n",
    "\n",
    "from sklearn.metrics import r2_score\n",
    "y_pred = model.predict(X_test)\n",
    "r2 = r2_score(y_test, y_pred)\n",
    "print('R-squared:', r2)"
   ]
  },
  {
   "cell_type": "code",
   "execution_count": 17,
   "id": "b28142e6-8bf7-442a-b3be-d288a1a49fad",
   "metadata": {},
   "outputs": [],
   "source": [
    "## Прогнозирование за другой период на том же объекте"
   ]
  },
  {
   "cell_type": "code",
   "execution_count": 18,
   "id": "26dbb373-cfc7-4c42-adb4-50e1294032e3",
   "metadata": {},
   "outputs": [],
   "source": [
    "import tensorflow as tf\n",
    "import numpy as np\n",
    "import requests\n",
    "import json\n",
    "from sklearn.model_selection import train_test_split\n",
    "import pandas as pd\n",
    "\n",
    "# Функция для загрузки данных с сервера\n",
    "def load_data(tag_ids, start_time, end_time):\n",
    "    values_all = []\n",
    "    for tag_id in tag_ids:\n",
    "        url = f\"http://tes.cloud.nstu.ru/proxy/tags/GetTagValues?tagId={tag_id}&startTime={start_time}&endTime={end_time}\"\n",
    "        response = requests.get(url)\n",
    "        data = json.loads(response.text)\n",
    "        values = np.array([entry['value'] for entry in data])\n",
    "        values_all.append(values)\n",
    "    timestamps = np.array([entry['timestamp'] for entry in data])\n",
    "    return np.array(values_all), timestamps"
   ]
  },
  {
   "cell_type": "code",
   "execution_count": 19,
   "id": "0ecc7957-0255-43e1-9e62-8ff060fe5ffd",
   "metadata": {},
   "outputs": [
    {
     "name": "stderr",
     "output_type": "stream",
     "text": [
      "/var/folders/4b/qt61zsy57dddqwgkrbwk3m380000gq/T/ipykernel_77342/699693162.py:25: FutureWarning: 'T' is deprecated and will be removed in a future version, please use 'min' instead.\n",
      "  data_to_model2 = data.resample('5T').mean()\n"
     ]
    }
   ],
   "source": [
    "# Загрузка данных за 2021-2022 год\n",
    "tag_ids = [30,31,32,33]\n",
    "start_time = \"2022-10-01\"\n",
    "end_time = \"2023-05-01\"\n",
    "values, timestamps = load_data(tag_ids, start_time, end_time)\n",
    "\n",
    "# Преобразование в DataFrame\n",
    "data = pd.DataFrame(data={'timestamp': timestamps,\n",
    "                          'Tsup': values[0],\n",
    "                          'Tback': values[1],\n",
    "                          'SP_sup': values[2],\n",
    "                          'SP_back': values[3]\n",
    "                          })\n",
    "\n",
    "# Преобразуем столбец timestamp в формат datetime\n",
    "data['timestamp'] = pd.to_datetime(data['timestamp'])\n",
    "\n",
    "# Устанавливаем timestamp как индекс DataFrame\n",
    "data = data.set_index('timestamp')\n",
    "\n",
    "# Удаление строк со значениями 0 или аномальными значениями\n",
    "data = data[(data['Tsup'] !=  0) & (data['Tback'] !=  0) & (data['SP_sup'] !=  0) & (data['SP_back'] !=  0)]\n",
    "\n",
    "# Ресэмплируем данные с периодичностью 5/10 минут\n",
    "data_to_model2 = data.resample('5T').mean()\n",
    "\n",
    "data_to_model2 = data_to_model2.dropna()"
   ]
  },
  {
   "cell_type": "code",
   "execution_count": 20,
   "id": "de1811a6-ec04-41a1-bd33-39ddd97f4857",
   "metadata": {},
   "outputs": [],
   "source": [
    "# Извлечь номер часа, дня недели и дня в месяце из индекса и добавить его как столбец\n",
    "\n",
    "data_to_model2.loc[:, 'hour'] = data_to_model2.index.hour\n",
    "data_to_model2.loc[:, 'day_of_week'] = data_to_model2.index.weekday\n",
    "data_to_model2.loc[:, 'day_of_year'] = data_to_model2.index.dayofyear\n",
    "\n",
    "scaler = MinMaxScaler(feature_range=(0, 1))\n",
    "data_normalized = scaler.fit_transform(data_to_model2)\n",
    "data_normalized = pd.DataFrame(data_normalized, columns=list(data_to_model2.columns))\n",
    "\n",
    "# data_to_model2 = data_standardized"
   ]
  },
  {
   "cell_type": "code",
   "execution_count": 21,
   "id": "ea325013-52f3-4d53-a6fc-fe29fca5f9ad",
   "metadata": {},
   "outputs": [
    {
     "data": {
      "text/html": [
       "<div>\n",
       "<style scoped>\n",
       "    .dataframe tbody tr th:only-of-type {\n",
       "        vertical-align: middle;\n",
       "    }\n",
       "\n",
       "    .dataframe tbody tr th {\n",
       "        vertical-align: top;\n",
       "    }\n",
       "\n",
       "    .dataframe thead th {\n",
       "        text-align: right;\n",
       "    }\n",
       "</style>\n",
       "<table border=\"1\" class=\"dataframe\">\n",
       "  <thead>\n",
       "    <tr style=\"text-align: right;\">\n",
       "      <th></th>\n",
       "      <th>Tsup</th>\n",
       "      <th>Tback</th>\n",
       "      <th>SP_sup</th>\n",
       "      <th>SP_back</th>\n",
       "      <th>hour</th>\n",
       "      <th>day_of_week</th>\n",
       "      <th>day_of_year</th>\n",
       "    </tr>\n",
       "  </thead>\n",
       "  <tbody>\n",
       "    <tr>\n",
       "      <th>0</th>\n",
       "      <td>0.360300</td>\n",
       "      <td>0.283381</td>\n",
       "      <td>0.120662</td>\n",
       "      <td>0.163036</td>\n",
       "      <td>0.608696</td>\n",
       "      <td>0.0</td>\n",
       "      <td>0.793956</td>\n",
       "    </tr>\n",
       "    <tr>\n",
       "      <th>1</th>\n",
       "      <td>0.233080</td>\n",
       "      <td>0.302104</td>\n",
       "      <td>0.119868</td>\n",
       "      <td>0.161965</td>\n",
       "      <td>0.608696</td>\n",
       "      <td>0.0</td>\n",
       "      <td>0.793956</td>\n",
       "    </tr>\n",
       "    <tr>\n",
       "      <th>2</th>\n",
       "      <td>0.326228</td>\n",
       "      <td>0.290285</td>\n",
       "      <td>0.119697</td>\n",
       "      <td>0.161746</td>\n",
       "      <td>0.608696</td>\n",
       "      <td>0.0</td>\n",
       "      <td>0.793956</td>\n",
       "    </tr>\n",
       "    <tr>\n",
       "      <th>3</th>\n",
       "      <td>0.253926</td>\n",
       "      <td>0.302498</td>\n",
       "      <td>0.120503</td>\n",
       "      <td>0.162836</td>\n",
       "      <td>0.608696</td>\n",
       "      <td>0.0</td>\n",
       "      <td>0.793956</td>\n",
       "    </tr>\n",
       "    <tr>\n",
       "      <th>4</th>\n",
       "      <td>0.256039</td>\n",
       "      <td>0.298216</td>\n",
       "      <td>0.121601</td>\n",
       "      <td>0.164320</td>\n",
       "      <td>0.608696</td>\n",
       "      <td>0.0</td>\n",
       "      <td>0.793956</td>\n",
       "    </tr>\n",
       "    <tr>\n",
       "      <th>...</th>\n",
       "      <td>...</td>\n",
       "      <td>...</td>\n",
       "      <td>...</td>\n",
       "      <td>...</td>\n",
       "      <td>...</td>\n",
       "      <td>...</td>\n",
       "      <td>...</td>\n",
       "    </tr>\n",
       "    <tr>\n",
       "      <th>46440</th>\n",
       "      <td>0.339608</td>\n",
       "      <td>0.435919</td>\n",
       "      <td>0.272576</td>\n",
       "      <td>0.368320</td>\n",
       "      <td>1.000000</td>\n",
       "      <td>1.0</td>\n",
       "      <td>0.326923</td>\n",
       "    </tr>\n",
       "    <tr>\n",
       "      <th>46441</th>\n",
       "      <td>0.449055</td>\n",
       "      <td>0.410107</td>\n",
       "      <td>0.273300</td>\n",
       "      <td>0.369298</td>\n",
       "      <td>1.000000</td>\n",
       "      <td>1.0</td>\n",
       "      <td>0.326923</td>\n",
       "    </tr>\n",
       "    <tr>\n",
       "      <th>46442</th>\n",
       "      <td>0.325325</td>\n",
       "      <td>0.435359</td>\n",
       "      <td>0.273753</td>\n",
       "      <td>0.369912</td>\n",
       "      <td>1.000000</td>\n",
       "      <td>1.0</td>\n",
       "      <td>0.326923</td>\n",
       "    </tr>\n",
       "    <tr>\n",
       "      <th>46443</th>\n",
       "      <td>0.430196</td>\n",
       "      <td>0.422468</td>\n",
       "      <td>0.274313</td>\n",
       "      <td>0.370667</td>\n",
       "      <td>1.000000</td>\n",
       "      <td>1.0</td>\n",
       "      <td>0.326923</td>\n",
       "    </tr>\n",
       "    <tr>\n",
       "      <th>46444</th>\n",
       "      <td>0.354858</td>\n",
       "      <td>0.446518</td>\n",
       "      <td>0.275105</td>\n",
       "      <td>0.371738</td>\n",
       "      <td>1.000000</td>\n",
       "      <td>1.0</td>\n",
       "      <td>0.326923</td>\n",
       "    </tr>\n",
       "  </tbody>\n",
       "</table>\n",
       "<p>46445 rows × 7 columns</p>\n",
       "</div>"
      ],
      "text/plain": [
       "           Tsup     Tback    SP_sup   SP_back      hour  day_of_week  \\\n",
       "0      0.360300  0.283381  0.120662  0.163036  0.608696          0.0   \n",
       "1      0.233080  0.302104  0.119868  0.161965  0.608696          0.0   \n",
       "2      0.326228  0.290285  0.119697  0.161746  0.608696          0.0   \n",
       "3      0.253926  0.302498  0.120503  0.162836  0.608696          0.0   \n",
       "4      0.256039  0.298216  0.121601  0.164320  0.608696          0.0   \n",
       "...         ...       ...       ...       ...       ...          ...   \n",
       "46440  0.339608  0.435919  0.272576  0.368320  1.000000          1.0   \n",
       "46441  0.449055  0.410107  0.273300  0.369298  1.000000          1.0   \n",
       "46442  0.325325  0.435359  0.273753  0.369912  1.000000          1.0   \n",
       "46443  0.430196  0.422468  0.274313  0.370667  1.000000          1.0   \n",
       "46444  0.354858  0.446518  0.275105  0.371738  1.000000          1.0   \n",
       "\n",
       "       day_of_year  \n",
       "0         0.793956  \n",
       "1         0.793956  \n",
       "2         0.793956  \n",
       "3         0.793956  \n",
       "4         0.793956  \n",
       "...            ...  \n",
       "46440     0.326923  \n",
       "46441     0.326923  \n",
       "46442     0.326923  \n",
       "46443     0.326923  \n",
       "46444     0.326923  \n",
       "\n",
       "[46445 rows x 7 columns]"
      ]
     },
     "execution_count": 21,
     "metadata": {},
     "output_type": "execute_result"
    }
   ],
   "source": [
    "# data_to_model2 = data_standardized\n",
    "data_normalized"
   ]
  },
  {
   "cell_type": "code",
   "execution_count": 22,
   "id": "bd9aa746-5f20-4026-b9b3-f04d3b7846d0",
   "metadata": {},
   "outputs": [],
   "source": [
    "new_X, new_y = singleStepSamplerOptimized(data_normalized, seq_length)\n",
    "# new_X = new_X.reshape((new_X.shape[0], new_X.shape[1], 1))"
   ]
  },
  {
   "cell_type": "code",
   "execution_count": 23,
   "id": "a678e4a6-dba9-41c8-89c1-c731695b0640",
   "metadata": {},
   "outputs": [
    {
     "name": "stdout",
     "output_type": "stream",
     "text": [
      "\u001b[1m1452/1452\u001b[0m \u001b[32m━━━━━━━━━━━━━━━━━━━━\u001b[0m\u001b[37m\u001b[0m \u001b[1m2s\u001b[0m 1ms/step\n"
     ]
    }
   ],
   "source": [
    "new_predictions = model.predict(new_X)"
   ]
  },
  {
   "cell_type": "code",
   "execution_count": 24,
   "id": "875696e5-9812-48f1-a750-2e6bcc213fcf",
   "metadata": {},
   "outputs": [
    {
     "name": "stdout",
     "output_type": "stream",
     "text": [
      "MSE: 0.0011185861816859102, MAE: 0.02427013120956832, R2: 0.9601451334841427\n"
     ]
    }
   ],
   "source": [
    "from sklearn.metrics import mean_squared_error, mean_absolute_error\n",
    "\n",
    "mse = mean_squared_error(new_y, new_predictions)\n",
    "mae = mean_absolute_error(new_y, new_predictions)\n",
    "r2 = r2_score(new_y, new_predictions)\n",
    "\n",
    "# print('R-squared:', r2)\n",
    "print(f\"MSE: {mse}, MAE: {mae}, R2: {r2}\")"
   ]
  },
  {
   "cell_type": "code",
   "execution_count": 25,
   "id": "902a2516-6825-4f46-9350-c884e55ad6f2",
   "metadata": {},
   "outputs": [
    {
     "data": {
      "text/plain": [
       "array([[0.29145631, 0.30798352, 0.17673085, 0.13079174],\n",
       "       [0.30613351, 0.28807471, 0.17776952, 0.13156115],\n",
       "       [0.29683688, 0.28237375, 0.17892443, 0.13241084],\n",
       "       ...,\n",
       "       [0.43535856, 0.32532457, 0.36991196, 0.27375271],\n",
       "       [0.4224684 , 0.43019587, 0.37066717, 0.27431303],\n",
       "       [0.44651794, 0.35485816, 0.3717381 , 0.27510542]])"
      ]
     },
     "execution_count": 25,
     "metadata": {},
     "output_type": "execute_result"
    }
   ],
   "source": [
    "new_y"
   ]
  },
  {
   "cell_type": "code",
   "execution_count": 26,
   "id": "978b4719-e863-4e00-8077-de9119a0e85c",
   "metadata": {},
   "outputs": [
    {
     "data": {
      "text/plain": [
       "array([[0.31523174, 0.28592625, 0.17516655, 0.13823836],\n",
       "       [0.31073207, 0.26788023, 0.17178181, 0.13519973],\n",
       "       [0.32075438, 0.28389907, 0.17717546, 0.13975358],\n",
       "       ...,\n",
       "       [0.4310876 , 0.3575254 , 0.35275608, 0.28101033],\n",
       "       [0.44534633, 0.42654574, 0.3619784 , 0.28982413],\n",
       "       [0.43273765, 0.3708898 , 0.3559666 , 0.28392065]], dtype=float32)"
      ]
     },
     "execution_count": 26,
     "metadata": {},
     "output_type": "execute_result"
    }
   ],
   "source": [
    "new_predictions"
   ]
  },
  {
   "cell_type": "code",
   "execution_count": 27,
   "id": "10606327-e17f-4f72-816c-7ce83c2177bf",
   "metadata": {},
   "outputs": [
    {
     "name": "stdout",
     "output_type": "stream",
     "text": [
      "Shape of data_to_model2: (46445, 7)\n",
      "Shape of new_predictions: (46433, 4)\n"
     ]
    }
   ],
   "source": [
    "print(\"Shape of data_to_model2:\", data_to_model2.shape)\n",
    "print(\"Shape of new_predictions:\", new_predictions.shape)"
   ]
  },
  {
   "cell_type": "code",
   "execution_count": 28,
   "id": "5ad61d26-e2cd-4fba-adfe-f0c63d47dc15",
   "metadata": {},
   "outputs": [],
   "source": [
    "\n",
    "\n",
    "# fig, axs = plt.subplots(4, 1, figsize=(10, 12), sharex=True)\n",
    "\n",
    "# for i in range(4):\n",
    "#     axs[i].plot(new_y[:, i], label='Реальное')\n",
    "#     axs[i].plot(new_predictions[:, i], label='Прогнозное')\n",
    "#     if( i == 0 ): { axs[i].set_title(f'Реальные и прогнозные данные по Tback') }\n",
    "#     if( i == 1 ): { axs[i].set_title(f'Реальные и прогнозные данные по Tsup') }\n",
    "#     if( i == 2 ): {axs[i].set_title(f'Реальные и прогнозные данные по SP_back') }\n",
    "#     if( i == 3 ): {axs[i].set_title(f'Реальные и прогнозные данные по SP_sup') }\n",
    "#     axs[i].set_ylabel('Значение')\n",
    "#     axs[i].legend()\n",
    "\n",
    "# plt.xlabel('Время')\n",
    "# plt.show()"
   ]
  },
  {
   "cell_type": "code",
   "execution_count": 29,
   "id": "22202cc6-85dc-49d7-9628-31a3fd2f7f91",
   "metadata": {},
   "outputs": [
    {
     "data": {
      "text/plain": [
       "'temp-plot.html'"
      ]
     },
     "execution_count": 29,
     "metadata": {},
     "output_type": "execute_result"
    }
   ],
   "source": [
    "import plotly.graph_objects as go\n",
    "from plotly.offline import plot\n",
    "\n",
    "# Создание фигуры\n",
    "fig5 = go.Figure()\n",
    "\n",
    "# Добавление графиков для каждого из пяти признаков\n",
    "titles = ['Tback', 'Tsup', 'SP_back', 'SP_sup']\n",
    "for i in range(4):\n",
    "    fig5.add_trace(go.Scatter(\n",
    "        x=list(range(len(new_y[:, i]))), \n",
    "        y=new_y[:, i], \n",
    "        mode='lines',\n",
    "        name=f'Реальное {titles[i]}'\n",
    "    ))\n",
    "    fig5.add_trace(go.Scatter(\n",
    "        x=list(range(len(new_predictions[:, i]))), \n",
    "        y=new_predictions[:, i], \n",
    "        mode='lines',\n",
    "        name=f'Прогнозное {titles[i]}'\n",
    "    ))\n",
    "\n",
    "    # Настройка макета для каждого отдельного графика\n",
    "    fig5.update_layout(\n",
    "        title=f'Реальные и прогнозные данные по {titles[i]}',\n",
    "        xaxis_title='Время',\n",
    "        yaxis_title='Значение',\n",
    "        legend_title='Легенда',\n",
    "        showlegend=True,\n",
    "        legend=dict(\n",
    "            yanchor=\"top\",\n",
    "            y=0.99,\n",
    "            xanchor=\"left\",\n",
    "            x=0.01\n",
    "        )\n",
    "    )\n",
    "\n",
    "# Сохранение фигуры и открытие в новой вкладке браузера\n",
    "plot(fig5)\n"
   ]
  },
  {
   "cell_type": "code",
   "execution_count": 30,
   "id": "7ad209e6-a3ef-448a-9897-5019ba82f760",
   "metadata": {},
   "outputs": [],
   "source": [
    "# По другому объекту"
   ]
  },
  {
   "cell_type": "code",
   "execution_count": 31,
   "id": "e5d13d08-fba2-49e3-857f-9ba691ebbbcb",
   "metadata": {},
   "outputs": [
    {
     "name": "stderr",
     "output_type": "stream",
     "text": [
      "/var/folders/4b/qt61zsy57dddqwgkrbwk3m380000gq/T/ipykernel_77342/4260422391.py:25: FutureWarning:\n",
      "\n",
      "'T' is deprecated and will be removed in a future version, please use 'min' instead.\n",
      "\n"
     ]
    }
   ],
   "source": [
    "# ИТП шк85\n",
    "tag_ids = [44,45,46,47]\n",
    "start_time = \"2021-10-01\"\n",
    "end_time = \"2022-05-01\"\n",
    "values, timestamps = load_data(tag_ids, start_time, end_time)\n",
    "\n",
    "# Преобразование в DataFrame\n",
    "data = pd.DataFrame(data={'timestamp': timestamps,\n",
    "                          'Tsup': values[0],\n",
    "                          'Tback': values[1],\n",
    "                          'SP_sup': values[2],\n",
    "                          'SP_back': values[3]\n",
    "                          })\n",
    "\n",
    "# Преобразуем столбец timestamp в формат datetime\n",
    "data['timestamp'] = pd.to_datetime(data['timestamp'])\n",
    "\n",
    "# Устанавливаем timestamp как индекс DataFrame\n",
    "data = data.set_index('timestamp')\n",
    "\n",
    "# Удаление строк со значениями 0 или аномальными значениями\n",
    "data = data[(data['Tsup'] !=  0) & (data['Tback'] !=  0) & (data['SP_sup'] !=  0) & (data['SP_back'] !=  0)]\n",
    "\n",
    "# Ресэмплируем данные с периодичностью 5/10 минут\n",
    "data_to_model3 = data.resample('5T').mean()\n",
    "\n",
    "data_to_model3 = data_to_model3.dropna()"
   ]
  },
  {
   "cell_type": "code",
   "execution_count": 32,
   "id": "b7c50bc5-0e52-4f93-89ff-bbec07903279",
   "metadata": {},
   "outputs": [],
   "source": [
    "# Извлечь номер часа, дня недели и дня в месяце из индекса и добавить его как столбец\n",
    "\n",
    "data_to_model3.loc[:, 'hour'] = data_to_model3.index.hour\n",
    "data_to_model3.loc[:, 'day_of_week'] = data_to_model3.index.weekday\n",
    "data_to_model3.loc[:, 'day_of_year'] = data_to_model3.index.dayofyear\n",
    "\n",
    "scaler = MinMaxScaler(feature_range=(0, 1))\n",
    "data_normalized = scaler.fit_transform(data_to_model3)\n",
    "data_normalized = pd.DataFrame(data_normalized, columns=list(data_to_model3.columns))\n",
    "\n",
    "\n",
    "# data_to_model2 = data_standardized"
   ]
  },
  {
   "cell_type": "code",
   "execution_count": 33,
   "id": "3c961f7f-1a98-467b-8e29-0bfaccb26343",
   "metadata": {},
   "outputs": [],
   "source": [
    "new_X, new_y = singleStepSamplerOptimized(data_normalized, seq_length)"
   ]
  },
  {
   "cell_type": "code",
   "execution_count": 34,
   "id": "d8f04d7f-bced-49a3-9c59-1f508e5e917a",
   "metadata": {},
   "outputs": [
    {
     "name": "stdout",
     "output_type": "stream",
     "text": [
      "\u001b[1m1399/1399\u001b[0m \u001b[32m━━━━━━━━━━━━━━━━━━━━\u001b[0m\u001b[37m\u001b[0m \u001b[1m2s\u001b[0m 1ms/step\n"
     ]
    }
   ],
   "source": [
    "new_predictions = model.predict(new_X)"
   ]
  },
  {
   "cell_type": "code",
   "execution_count": 35,
   "id": "6007cd59-f67c-4b61-bd9e-00a9df0c8864",
   "metadata": {},
   "outputs": [
    {
     "name": "stdout",
     "output_type": "stream",
     "text": [
      "MSE: 0.002593037937092366, MAE: 0.03865039939099741, R2: 0.9286055797887852\n"
     ]
    }
   ],
   "source": [
    "from sklearn.metrics import mean_squared_error, mean_absolute_error\n",
    "\n",
    "mse = mean_squared_error(new_y, new_predictions)\n",
    "mae = mean_absolute_error(new_y, new_predictions)\n",
    "r2 = r2_score(new_y, new_predictions)\n",
    "# print('R-squared:', r2)\n",
    "print(f\"MSE: {mse}, MAE: {mae}, R2: {r2}\")"
   ]
  },
  {
   "cell_type": "code",
   "execution_count": 36,
   "id": "82f7c516-a482-45e6-9df8-5a9bac6737be",
   "metadata": {},
   "outputs": [
    {
     "data": {
      "text/plain": [
       "'temp-plot.html'"
      ]
     },
     "execution_count": 36,
     "metadata": {},
     "output_type": "execute_result"
    }
   ],
   "source": [
    "import plotly.graph_objects as go\n",
    "from plotly.offline import plot\n",
    "\n",
    "# Создание фигуры\n",
    "fig6 = go.Figure()\n",
    "\n",
    "# Добавление графиков для каждого из пяти признаков\n",
    "titles = ['Tback', 'Tsup', 'SP_back', 'SP_sup']\n",
    "for i in range(4):\n",
    "    fig6.add_trace(go.Scatter(\n",
    "        x=list(range(len(new_y[:, i]))), \n",
    "        y=new_y[:, i], \n",
    "        mode='lines',\n",
    "        name=f'Реальное {titles[i]}'\n",
    "    ))\n",
    "    fig6.add_trace(go.Scatter(\n",
    "        x=list(range(len(new_predictions[:, i]))), \n",
    "        y=new_predictions[:, i], \n",
    "        mode='lines',\n",
    "        name=f'Прогнозное {titles[i]}'\n",
    "    ))\n",
    "\n",
    "    # Настройка макета для каждого отдельного графика\n",
    "    fig6.update_layout(\n",
    "        title=f'Реальные и прогнозные данные по {titles[i]}',\n",
    "        xaxis_title='Время',\n",
    "        yaxis_title='Значение',\n",
    "        legend_title='Легенда',\n",
    "        showlegend=True,\n",
    "        legend=dict(\n",
    "            yanchor=\"top\",\n",
    "            y=0.99,\n",
    "            xanchor=\"left\",\n",
    "            x=0.01\n",
    "        )\n",
    "    )\n",
    "# Сохранение фигуры и открытие в новой вкладке браузера\n",
    "plot(fig6)\n"
   ]
  }
 ],
 "metadata": {
  "kernelspec": {
   "display_name": "Python 3 (ipykernel)",
   "language": "python",
   "name": "python3"
  },
  "language_info": {
   "codemirror_mode": {
    "name": "ipython",
    "version": 3
   },
   "file_extension": ".py",
   "mimetype": "text/x-python",
   "name": "python",
   "nbconvert_exporter": "python",
   "pygments_lexer": "ipython3",
   "version": "3.10.10"
  }
 },
 "nbformat": 4,
 "nbformat_minor": 5
}
